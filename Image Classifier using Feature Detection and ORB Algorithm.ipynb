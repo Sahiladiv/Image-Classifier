{
 "cells": [
  {
   "cell_type": "code",
   "execution_count": 169,
   "id": "24422d2c",
   "metadata": {},
   "outputs": [],
   "source": [
    "import cv2\n",
    "import numpy\n",
    "import os"
   ]
  },
  {
   "cell_type": "code",
   "execution_count": 170,
   "id": "9407e300",
   "metadata": {},
   "outputs": [],
   "source": [
    "train_folder_path = \"Image Train/\"\n",
    "\n",
    "query_folder_path = \"Image Query/\""
   ]
  },
  {
   "cell_type": "code",
   "execution_count": 171,
   "id": "d2136934",
   "metadata": {},
   "outputs": [],
   "source": [
    "orb = cv2.ORB_create(nfeatures=900, nlevels=5)\n",
    "\n",
    "class_name = []"
   ]
  },
  {
   "cell_type": "code",
   "execution_count": 172,
   "id": "0a4b984a",
   "metadata": {},
   "outputs": [],
   "source": [
    "all_train_images = os.listdir(train_folder_path)\n",
    "get_all_train_images_path = []\n",
    "\n",
    "for i in all_train_images:\n",
    "    img = cv2.imread(train_folder_path + '/'  + i)\n",
    "    h,w,c = img.shape\n",
    "    ratio = 800/w\n",
    "    dim = (800, int(h * ratio))\n",
    "    img = cv2.resize(img, dim)\n",
    "    get_all_train_images_path.append(img)\n"
   ]
  },
  {
   "cell_type": "code",
   "execution_count": 173,
   "id": "cacf5162",
   "metadata": {},
   "outputs": [],
   "source": [
    "all_query_images = os.listdir(query_folder_path)\n",
    "get_all_query_images_path = []\n",
    "\n",
    "for i in all_query_images:\n",
    "    img = cv2.imread(query_folder_path + '/'  + i)\n",
    "    h,w,c = img.shape\n",
    "    ratio = 800/w\n",
    "    dim = (800, int(h * ratio))\n",
    "    img = cv2.resize(img, dim)\n",
    "    get_all_query_images_path.append(img)\n",
    "    class_name.append(os.path.splitext(i)[0])\n"
   ]
  },
  {
   "cell_type": "code",
   "execution_count": 174,
   "id": "f06ff9e1",
   "metadata": {},
   "outputs": [],
   "source": [
    "def descriptor_list(images):\n",
    "    des_list = []\n",
    "    \n",
    "    for i in images:\n",
    "        kp1, des1 = orb.detectAndCompute(i, None)\n",
    "        des_list.append(des1)\n",
    "    return des_list"
   ]
  },
  {
   "cell_type": "code",
   "execution_count": 175,
   "id": "effa5eba",
   "metadata": {},
   "outputs": [],
   "source": [
    "def find_id(img, des_list, threshold=15):\n",
    "    matches_list = []\n",
    "    good_match = []\n",
    "    best_match = []\n",
    "    final_val = -1\n",
    "    kp2, des2 = orb.detectAndCompute(img, None)\n",
    "    bf = cv2.BFMatcher()\n",
    "    \n",
    "    try:\n",
    "        for des1 in des_list:\n",
    "            matches_list.append(bf.knnMatch(des1,des2, k=2))\n",
    "\n",
    "        for matches in matches_list:\n",
    "            for i, j in matches:\n",
    "                if i.distance < 0.75*j.distance:\n",
    "                    good_match.append([i])\n",
    "            best_match.append(len(good_match))\n",
    "        print(best_match)\n",
    "        if len(best_match) != 0:\n",
    "            \n",
    "            if max(best_match) > threshold:\n",
    "                final_val = best_match.index(max(best_match))\n",
    "            \n",
    "            \n",
    "    except Exception as ex:\n",
    "        print(ex)\n",
    "    \n",
    "    return final_val\n",
    "        \n",
    "    "
   ]
  },
  {
   "cell_type": "code",
   "execution_count": 176,
   "id": "34c26305",
   "metadata": {},
   "outputs": [],
   "source": [
    "des_list = descriptor_list(get_all_query_images_path)"
   ]
  },
  {
   "cell_type": "code",
   "execution_count": 177,
   "id": "2c6c66f6",
   "metadata": {
    "scrolled": false
   },
   "outputs": [
    {
     "name": "stdout",
     "output_type": "stream",
     "text": [
      "[14, 25]\n",
      "pepsi\n"
     ]
    },
    {
     "data": {
      "text/plain": [
       "-1"
      ]
     },
     "execution_count": 177,
     "metadata": {},
     "output_type": "execute_result"
    }
   ],
   "source": [
    "##Using image:\n",
    "img = cv2.imread('Image Train/train1.jpg')\n",
    "\n",
    "img_id = find_id(img, des_list)\n",
    "if img_id != -1:\n",
    "    print(class_name[img_id])\n",
    "cv2.waitKey(0)"
   ]
  },
  {
   "cell_type": "code",
   "execution_count": null,
   "id": "b3fa07d5",
   "metadata": {},
   "outputs": [],
   "source": [
    "##Using Webcam:\n",
    "cap = cv2.VideoCapture(0)\n",
    "cap.set(3,640)\n",
    "cap.set(4,480)\n",
    "while(True):\n",
    "    success, img = cap.read()\n",
    "    cv2.imshow(\"Video\",img)\n",
    "    img_id = find_id(img, des_list)\n",
    "    if img_id != -1:\n",
    "        print(class_name[img_id])\n",
    "    cv2.waitKey(1)"
   ]
  }
 ],
 "metadata": {
  "kernelspec": {
   "display_name": "Python 3",
   "language": "python",
   "name": "python3"
  },
  "language_info": {
   "codemirror_mode": {
    "name": "ipython",
    "version": 3
   },
   "file_extension": ".py",
   "mimetype": "text/x-python",
   "name": "python",
   "nbconvert_exporter": "python",
   "pygments_lexer": "ipython3",
   "version": "3.9.0"
  }
 },
 "nbformat": 4,
 "nbformat_minor": 5
}
