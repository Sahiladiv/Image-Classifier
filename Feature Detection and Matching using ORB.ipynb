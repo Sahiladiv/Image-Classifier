{
 "cells": [
  {
   "cell_type": "code",
   "execution_count": 45,
   "id": "f27f838f",
   "metadata": {},
   "outputs": [],
   "source": [
    "import cv2\n",
    "import numpy\n",
    "import os"
   ]
  },
  {
   "cell_type": "code",
   "execution_count": 46,
   "id": "993e5e62",
   "metadata": {},
   "outputs": [],
   "source": [
    "img1 = cv2.imread(\"Image Query/query1.jpg\",0)\n",
    "\n",
    "img2 = cv2.imread(\"Image Train/train1.jpg\",0)"
   ]
  },
  {
   "cell_type": "code",
   "execution_count": 76,
   "id": "b942ee09",
   "metadata": {},
   "outputs": [],
   "source": [
    "orb = cv2.ORB_create(nfeatures=10000)"
   ]
  },
  {
   "cell_type": "code",
   "execution_count": 77,
   "id": "d43097fd",
   "metadata": {},
   "outputs": [],
   "source": [
    "kp1, des1 = orb.detectAndCompute(img1, None) ## kp1->keypoints and des1->description and None->mask\n",
    "\n",
    "kp2, des2 = orb.detectAndCompute(img2, None) ## kp2->keypoints and des2->description and None->mask"
   ]
  },
  {
   "cell_type": "code",
   "execution_count": 78,
   "id": "0ac680b3",
   "metadata": {},
   "outputs": [],
   "source": [
    "##To draw keypoints\n",
    "img1kp1 = cv2.drawKeypoints(img1,kp1,None) ##Outimage = None\n",
    "\n",
    "img2kp2 = cv2.drawKeypoints(img2,kp2,None) ##Outimage = None"
   ]
  },
  {
   "cell_type": "code",
   "execution_count": 79,
   "id": "523ff911",
   "metadata": {},
   "outputs": [],
   "source": [
    "bf = cv2.BFMatcher()\n",
    "\n",
    "matches = bf.knnMatch(des1,des2, k=2)"
   ]
  },
  {
   "cell_type": "code",
   "execution_count": 80,
   "id": "a7ba78d6",
   "metadata": {},
   "outputs": [],
   "source": [
    "good_match = []\n",
    "for i, j in matches:\n",
    "    if i.distance < 0.75*j.distance:\n",
    "        good_match.append([i])\n",
    "img3 = cv2.drawMatchesKnn(img1,kp1,img2,kp2,good_match,None,flags=2)\n",
    "img3 = cv2.resize(img3,(1400,500))"
   ]
  },
  {
   "cell_type": "code",
   "execution_count": 81,
   "id": "f4d9fecd",
   "metadata": {},
   "outputs": [],
   "source": [
    "# cv2.imshow(\"KP1 IMG1\", img1kp1)\n",
    "\n",
    "# cv2.imshow(\"KP2 IMG2\", img2kp2)\n",
    "\n",
    "# cv2.waitKey(0)"
   ]
  },
  {
   "cell_type": "code",
   "execution_count": 82,
   "id": "89f022a6",
   "metadata": {},
   "outputs": [
    {
     "data": {
      "text/plain": [
       "90"
      ]
     },
     "execution_count": 82,
     "metadata": {},
     "output_type": "execute_result"
    }
   ],
   "source": [
    "len(good_match)"
   ]
  },
  {
   "cell_type": "code",
   "execution_count": 83,
   "id": "11043f13",
   "metadata": {},
   "outputs": [],
   "source": [
    "# cv2.imshow(\"QUERY IMG\", img1)\n",
    "\n",
    "# cv2.imshow(\"TRAIN IMG\", img2)\n",
    "\n",
    "# cv2.waitKey(0)"
   ]
  },
  {
   "cell_type": "code",
   "execution_count": 84,
   "id": "1f960186",
   "metadata": {},
   "outputs": [
    {
     "data": {
      "text/plain": [
       "-1"
      ]
     },
     "execution_count": 84,
     "metadata": {},
     "output_type": "execute_result"
    }
   ],
   "source": [
    "cv2.imshow(\"MATCH IMG\", img3)\n",
    "\n",
    "cv2.waitKey(0)"
   ]
  },
  {
   "cell_type": "code",
   "execution_count": 36,
   "id": "1549ccc7",
   "metadata": {},
   "outputs": [],
   "source": [
    "train_folder_path = \"Image Train/\"\n",
    "query_folder_path = \"Image Query/\""
   ]
  },
  {
   "cell_type": "code",
   "execution_count": 38,
   "id": "74f8507a",
   "metadata": {},
   "outputs": [],
   "source": [
    "all_train_images = os.listdir(train_folder_path)\n",
    "get_all_train_images_path = []\n",
    "\n",
    "for i in all_train_images:\n",
    "    img = cv2.imread(train_folder_path + '/'  + i)\n",
    "    h,w,c = img.shape\n",
    "    ratio = 800/w\n",
    "    dim = (800, int(h * ratio))\n",
    "    img = cv2.resize(img, dim)\n",
    "    get_all_train_images_path.append(img)"
   ]
  },
  {
   "cell_type": "code",
   "execution_count": 41,
   "id": "26602d65",
   "metadata": {},
   "outputs": [],
   "source": [
    "all_query_images = os.listdir(query_folder_path)\n",
    "get_all_query_images_path = []\n",
    "\n",
    "for i in all_query_images:\n",
    "    img = cv2.imread(query_folder_path + '/'  + i)\n",
    "    h,w,c = img.shape\n",
    "    ratio = 800/w\n",
    "    dim = (800, int(h * ratio))\n",
    "    img = cv2.resize(img, dim)\n",
    "    get_all_query_images_path.append(img)"
   ]
  },
  {
   "cell_type": "code",
   "execution_count": 44,
   "id": "d6919712",
   "metadata": {},
   "outputs": [],
   "source": [
    "for i in get_all_query_images_path:\n",
    "\n",
    "    cv2.imshow(\"MATCH IMG\", i)\n",
    "\n",
    "    cv2.waitKey(0)"
   ]
  },
  {
   "cell_type": "code",
   "execution_count": null,
   "id": "0c491f04",
   "metadata": {},
   "outputs": [],
   "source": []
  }
 ],
 "metadata": {
  "kernelspec": {
   "display_name": "Python 3",
   "language": "python",
   "name": "python3"
  },
  "language_info": {
   "codemirror_mode": {
    "name": "ipython",
    "version": 3
   },
   "file_extension": ".py",
   "mimetype": "text/x-python",
   "name": "python",
   "nbconvert_exporter": "python",
   "pygments_lexer": "ipython3",
   "version": "3.9.0"
  }
 },
 "nbformat": 4,
 "nbformat_minor": 5
}
